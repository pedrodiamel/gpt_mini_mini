{
 "cells": [
  {
   "cell_type": "markdown",
   "id": "2504d3ef-61ea-4181-86d2-46ca70eb4601",
   "metadata": {},
   "source": [
    "# GPT mini mini: Treinando meu primeiro transformer de Zero (Parte 1)"
   ]
  },
  {
   "cell_type": "code",
   "execution_count": 1,
   "id": "1414fba0-6280-4bf4-a454-799f6903b7ea",
   "metadata": {},
   "outputs": [],
   "source": [
    "import os\n",
    "import numpy as np\n",
    "import matplotlib.pyplot as plt\n",
    "import pandas as pd\n",
    "\n",
    "# TORCH MODULE\n",
    "import torch\n",
    "from torch.utils.data import Dataset\n",
    "from torch.utils.data import DataLoader\n",
    "\n",
    "# LOCAL MODULE\n",
    "from llms.datasets.datasets import CharDataset\n",
    "from llms.transformer import NeuralNetTransformer\n",
    "\n",
    "plt.ion()   # interactive mode\n",
    "\n",
    "# Ignore warnings\n",
    "import warnings\n",
    "warnings.filterwarnings(\"ignore\")"
   ]
  },
  {
   "cell_type": "code",
   "execution_count": 1,
   "id": "c2f0f80b-b4c1-4411-a3d0-6b302185bc34",
   "metadata": {},
   "outputs": [
    {
     "data": {
      "text/html": [
       "\n",
       "<a target=\"_blank\" href=\"https://colab.research.google.com/github/pedrodiamel/gpt_mini_mini/blob/main/books/gpt_mini_mini_dev.ipynb\">\n",
       "  <img src=\"https://colab.research.google.com/assets/colab-badge.svg\" alt=\"Open In Colab\"/>\n",
       "</a>\n"
      ],
      "text/plain": [
       "<IPython.core.display.HTML object>"
      ]
     },
     "metadata": {},
     "output_type": "display_data"
    }
   ],
   "source": [
    "from IPython.display import display, HTML\n",
    "display(HTML(\n",
    "\"\"\"\n",
    "<a target=\"_blank\" href=\"https://colab.research.google.com/github/pedrodiamel/gpt_mini_mini/blob/main/books/gpt_mini_mini_dev.ipynb\">\n",
    "  <img src=\"https://colab.research.google.com/assets/colab-badge.svg\" alt=\"Open In Colab\"/>\n",
    "</a>\n",
    "\"\"\"\n",
    "))"
   ]
  },
  {
   "cell_type": "code",
   "execution_count": null,
   "id": "d8e48aab-54db-4bad-a732-42fdeb293af2",
   "metadata": {},
   "outputs": [],
   "source": [
    "!nvidia-smi"
   ]
  },
  {
   "cell_type": "code",
   "execution_count": null,
   "id": "ec9743aa-0ddc-4804-95ce-a4a1b33225d5",
   "metadata": {},
   "outputs": [],
   "source": [
    "using_colab = False"
   ]
  },
  {
   "cell_type": "code",
   "execution_count": null,
   "id": "a1542e4b-1f3a-4597-b8d4-73d417f81e4c",
   "metadata": {},
   "outputs": [],
   "source": [
    "if using_colab:\n",
    "    import torch\n",
    "    print(\"PyTorch version:\", torch.__version__)\n",
    "    print(\"CUDA is available:\", torch.cuda.is_available())\n",
    "    import sys\n",
    "    #!pip install git+https://github.com/pedrodiamel/gpt_mini_mini\n",
    "    !{sys.executable} -m pip install \"git+https://github.com/pedrodiamel/gpt_mini_mini\"\n",
    "    !mkdir -p /.datasets/llms/brasiliansong/\n",
    "    !wget -P /.datasets/llms/brasiliansong/ https://raw.githubusercontent.com/pedrodiamel/gpt_mini_mini/main/data/brasiliansong/input.txt\n"
   ]
  },
  {
   "cell_type": "code",
   "execution_count": null,
   "id": "10c012df-0891-4685-a878-b57f70cd320a",
   "metadata": {},
   "outputs": [],
   "source": []
  },
  {
   "cell_type": "code",
   "execution_count": null,
   "id": "1f3f0ea8-2be6-4343-a142-f76f0a7a57ea",
   "metadata": {},
   "outputs": [],
   "source": []
  },
  {
   "cell_type": "code",
   "execution_count": 4,
   "id": "60a6bfed-d96a-4c60-b3bf-26339aa03012",
   "metadata": {},
   "outputs": [],
   "source": [
    "DATASET_PATH = \"/.datasets/llms/brasiliansong/input.txt\"\n",
    "MODEL_PATH = \"/.models/gptcourse/gptcourse_gpt2mm_v0.04/models/chk000002.pth.tar\"\n",
    "NO_CUDA = False\n",
    "SEED=1\n",
    "GPU=0"
   ]
  },
  {
   "cell_type": "code",
   "execution_count": null,
   "id": "ef1274f4-a54a-4afd-b098-81f5fa1a0131",
   "metadata": {},
   "outputs": [],
   "source": []
  },
  {
   "cell_type": "code",
   "execution_count": 3,
   "id": "089f0e8c-05cd-44b1-bdab-81757060f0af",
   "metadata": {},
   "outputs": [],
   "source": [
    "with open(DATASET_PATH, \"r\", encoding=\"utf-8\") as f:\n",
    "    data = f.read()"
   ]
  },
  {
   "cell_type": "code",
   "execution_count": 4,
   "id": "f48166a5-2415-4fd1-93d0-0e22eafbcee6",
   "metadata": {},
   "outputs": [
    {
     "name": "stdout",
     "output_type": "stream",
     "text": [
      "cantidade de caracteres:  8990763\n"
     ]
    }
   ],
   "source": [
    "print(\"quantidade de caracteres: \", len(data))"
   ]
  },
  {
   "cell_type": "code",
   "execution_count": 5,
   "id": "42e57744-3026-4570-b622-6edc6f5a9729",
   "metadata": {},
   "outputs": [
    {
     "name": "stdout",
     "output_type": "stream",
     "text": [
      "10 Beijos de Rua:\n",
      "Acabou outra vez. \n",
      "Foi cena repetida. \n",
      "Um tchau com gosto de fica. \n",
      "Me chamaram aqui pra sair. \n",
      "Nem no clima eu to. \n",
      "Mas só de raiva eu vou. \n",
      "Meu coração nem ia. \n",
      "Mas só que a teimosia. \n",
      "Chegou em mim parou, parou. \n",
      "Na primeira boca já senti remorso. \n",
      "Beijando mal de propósito. \n",
      "Torcendo pra acabar. \n",
      "O que eu nem devia começar. \n",
      "10 de beijos de rua. \n",
      "Não valem metade do seu. \n",
      "No canto da boca. \n",
      "Imagina na boca. \n",
      "10 beijos de rua. \n",
      "Não causa efeito. \n",
      "De quando me abraça com roup\n"
     ]
    }
   ],
   "source": [
    "# vamos a olhar os primeros 100 caracteres \n",
    "print(data[:500])"
   ]
  },
  {
   "cell_type": "code",
   "execution_count": null,
   "id": "66a975c5-55a5-4b3a-a52d-8cb2fa07130c",
   "metadata": {},
   "outputs": [],
   "source": []
  },
  {
   "cell_type": "code",
   "execution_count": 30,
   "id": "ed35bb23-b6ce-44fc-8b9f-9cb570615699",
   "metadata": {},
   "outputs": [
    {
     "name": "stdout",
     "output_type": "stream",
     "text": [
      "\t\n",
      " !\"#$%&'()*+,-./0123456789:;=?@ABCDEFGHIJKLMNOPQRSTUVWXYZ[]^_`abcdefghijklmnopqrstuvwxyz{|}~ ¡ª°²´º¿ÀÁÂÃÇÈÉÊËÍÒÓÔÕÚßàáâãäçèéêëìíîïñòóôõöùúûüāœ​–—―‘’“”„…♪♫ﬂ﻿\n",
      "160\n"
     ]
    }
   ],
   "source": [
    "# aqui vamos a obtener nosso vocabulario. \n",
    "# en este caso vamos a calcular todos os caracteres presentes no nosso dataset\n",
    "voc = sorted(list(set(data)))\n",
    "vocab_size = len(voc)\n",
    "\n",
    "print(\"\".join(voc))\n",
    "print(vocab_size)"
   ]
  },
  {
   "cell_type": "code",
   "execution_count": 31,
   "id": "a02c8307-083a-47b6-b4a6-c8b61f05ec88",
   "metadata": {},
   "outputs": [],
   "source": [
    "# vocabulario baseado em palabras\n",
    "# voc = [ w for l in data.split(\"\\n\") for w in l.split(\" \") ]\n",
    "# voc = sorted(list(set(voc)))\n",
    "# vocab_size = len(voc)\n",
    "\n",
    "# print(\" \".join(voc))\n",
    "# print(vocab_size)\n"
   ]
  },
  {
   "cell_type": "code",
   "execution_count": 37,
   "id": "9b7cc152-ca0c-4ea2-b360-85464c8be4f0",
   "metadata": {},
   "outputs": [
    {
     "name": "stdout",
     "output_type": "stream",
     "text": [
      "[47, 75, 121, 2, 79, 68, 82, 82, 78, 64, 75, 2, 67, 78, 2, 66, 72, 77]\n",
      "Olá pessoal do cin\n"
     ]
    }
   ],
   "source": [
    "# vamos a tokenizar nosso vocabulario \n",
    "# o que significa tokenizar? vamos a criar um lookup table dos componentes do vocabulario\n",
    "\n",
    "# chart/word/bytes to int \n",
    "stoi = { s:i for i,s in enumerate(voc) }\n",
    "# int to chart/word/bytes ....\n",
    "itos = { i:s for i,s in enumerate(voc) }\n",
    "\n",
    "encoder = lambda s: [stoi[c] for c in s] # enconder: recebe un string e retorna os tokens \n",
    "decoder = lambda t: \"\".join([itos[i] for i in t]) # deconder: recebe uma lista de tokens e decondifica o string \n",
    "\n",
    "print(encoder(\"Olá pessoal do cin\"))\n",
    "print(decoder(encoder(\"Olá pessoal do cin\")))"
   ]
  },
  {
   "cell_type": "code",
   "execution_count": null,
   "id": "9354e648-2da4-4bf9-99e2-5f97cb383627",
   "metadata": {},
   "outputs": [],
   "source": [
    "# Existem outras formas de tokenizar \n",
    "# - Google: https://github.com/google/sentencepiece \n",
    "# - OpenIA: https://github.com/openai/tiktoken\n"
   ]
  },
  {
   "cell_type": "code",
   "execution_count": 47,
   "id": "a3acd354-a7b2-4047-88dc-b8a357f5e2b9",
   "metadata": {},
   "outputs": [
    {
     "name": "stdout",
     "output_type": "stream",
     "text": [
      "tamanho do vocabulario:  50257\n",
      "[30098, 6557, 279, 408, 78, 282, 466, 269, 259]\n",
      "Olá pessoal do cin\n"
     ]
    }
   ],
   "source": [
    "import tiktoken\n",
    "enc = tiktoken.get_encoding(\"gpt2\")\n",
    "\n",
    "print(\"tamanho do vocabulario: \", enc.n_vocab) \n",
    "print(enc.encode(\"Olá pessoal do cin\"))\n",
    "print(enc.decode(enc.encode(\"Olá pessoal do cin\")))\n"
   ]
  },
  {
   "cell_type": "code",
   "execution_count": 2,
   "id": "66d2c9c7-c42b-4bf3-aaf1-a38dff9fb56f",
   "metadata": {},
   "outputs": [],
   "source": [
    "# vamos a crear um dataloader para pytorch\n",
    "# ver tutoria: https://pytorch.org/tutorials/beginner/basics/data_tutorial.html\n",
    "# other examples: https://github.com/pytorch/examples/blob/main/word_language_model/data.py\n",
    "\n",
    "import torch\n",
    "from torch.utils.data import Dataset\n",
    "\n",
    "\n",
    "class Vocabulary:\n",
    "    def __init__(self, data):\n",
    "        \n",
    "        self.voc = sorted(list(set(data)))\n",
    "        self.vocab_size = len(voc)\n",
    "        self.stoi = {ch: i for i, ch in enumerate(self.voc)}\n",
    "        self.itos = {i: ch for i, ch in enumerate(self.voc)}\n",
    "\n",
    "    def encoder(self, message):\n",
    "        return [self.stoi[s] for s in message]\n",
    "\n",
    "    def decoder(self, tokens):\n",
    "        return \"\".join([self.itos[int(i)] for i in tokens])\n",
    "\n",
    "\n",
    "class CharDataset(Dataset):\n",
    "    \n",
    "    def __init__(self, pathname, block_size, train=True, download=False):\n",
    "        \"\"\"CharDataset\n",
    "        Args:\n",
    "            pathname (str): path to dataset\n",
    "            block_size (int): block size for context window\n",
    "            train (bool): train or test\n",
    "            download (bool): download dataset if not found\n",
    "        Ref:\n",
    "            https://github.com/facebookresearch/xformers/blob/main/examples/microGPT.py\n",
    "        \"\"\"\n",
    "\n",
    "        if not os.path.isfile(pathname):\n",
    "            raise FileNotFoundError(\"Dataset not found.\")\n",
    "\n",
    "        with open(pathname, \"r\", encoding=\"utf-8\") as f:\n",
    "            data = f.read()\n",
    "\n",
    "        voc = sorted(list(set(data)))\n",
    "        vocab_size = len(voc)\n",
    "\n",
    "        self.stoi = {ch: i for i, ch in enumerate(voc)}\n",
    "        self.itos = {i: ch for i, ch in enumerate(voc)}\n",
    "\n",
    "        n = int(0.9 * len(data)) # 90% para train e o resto para validação\n",
    "        data = data[:n] if train else data[n:]\n",
    "        data_size = len(data)\n",
    "\n",
    "        self.pathname = pathname\n",
    "        self.block_size = block_size\n",
    "        self.vocab_size = vocab_size\n",
    "        self.data = data\n",
    "        self.count = data_size\n",
    "        self.voc = voc\n",
    "\n",
    "    def __len__(self):\n",
    "        return self.count - self.block_size\n",
    "\n",
    "    def __getitem__(self, i):\n",
    "        chunk = self.data[i : i + self.block_size + 1]\n",
    "        dix = [self.stoi[s] for s in chunk]\n",
    "\n",
    "        # src and target are off by one, we want the model to predict the next word\n",
    "        x = torch.tensor(dix[:-1], dtype=torch.long)\n",
    "        y = torch.tensor(dix[1:], dtype=torch.long)\n",
    "        return x, y\n",
    "\n",
    "    def to_tokens(self, message, device):\n",
    "        return torch.tensor([self.stoi[s] for s in message], dtype=torch.long)[None, ...].to(device)\n",
    "\n",
    "    def from_tokens(self, tokens):\n",
    "        return \"\".join([self.itos[int(i)] for i in tokens])\n",
    "\n"
   ]
  },
  {
   "cell_type": "code",
   "execution_count": 5,
   "id": "83ee031d-367e-4383-8603-3016c4df12df",
   "metadata": {},
   "outputs": [
    {
     "name": "stdout",
     "output_type": "stream",
     "text": [
      "899073\n"
     ]
    }
   ],
   "source": [
    "dataset = CharDataset(DATASET_PATH, block_size=4, train=False)\n",
    "print(len(dataset))"
   ]
  },
  {
   "cell_type": "code",
   "execution_count": 6,
   "id": "9e1620e6-2554-4b8d-97f0-2dbbc459368b",
   "metadata": {},
   "outputs": [
    {
     "name": "stdout",
     "output_type": "stream",
     "text": [
      "x:  tensor([76, 68,  2, 68]) decode:  me e\n",
      "y:  tensor([68,  2, 68, 77]) decode:  e en\n"
     ]
    }
   ],
   "source": [
    "x, y = dataset[0]\n",
    "print(\"x: \", x, \"decode: \", dataset.from_tokens(x))\n",
    "print(\"y: \", y, \"decode: \", dataset.from_tokens(y))\n"
   ]
  },
  {
   "cell_type": "code",
   "execution_count": null,
   "id": "b550723b-3c0b-4e7e-918f-21685ee8614a",
   "metadata": {},
   "outputs": [],
   "source": [
    "\n",
    "# p(y | x,w)\n",
    "# x = image_gato, y= gato\n",
    "# p(y=gato | image_gato, w) = f(x)_w\n",
    "\n",
    "# p(y=68 | 76)\n",
    "# p(y=2  | 76, 68)\n",
    "# p(y=68 | 76, 68, 2)\n",
    "# p(y=77 | 76, 68, 2, 68) = f([x1,x2, ...xT])_w\n",
    "#         ----- T ------ \n"
   ]
  },
  {
   "cell_type": "code",
   "execution_count": 20,
   "id": "79d1a0db-dac7-4df0-8446-94656a85d13e",
   "metadata": {},
   "outputs": [
    {
     "name": "stdout",
     "output_type": "stream",
     "text": [
      "224767\n",
      "224767.25\n"
     ]
    }
   ],
   "source": [
    "# creando un dataloader en pytorch para obtener os batch para o trenamento\n",
    "from torch.utils.data import DataLoader\n",
    "from torch.utils.data.sampler import RandomSampler\n",
    "\n",
    "batch_size = 4\n",
    "block_size = 8 # context windows \n",
    "workers = 1\n",
    "\n",
    "# Create dataset\n",
    "dataset = CharDataset(DATASET_PATH, block_size, train=False)\n",
    "\n",
    "# Load data\n",
    "dataloader = DataLoader(\n",
    "    dataset,\n",
    "    batch_size=4,\n",
    "    sampler=RandomSampler(dataset),\n",
    "    num_workers=workers,\n",
    "    pin_memory=False,\n",
    "    drop_last=True,\n",
    ")\n",
    "\n",
    "print(len(dataloader))\n",
    "print(len(dataset)/4)\n"
   ]
  },
  {
   "cell_type": "code",
   "execution_count": null,
   "id": "5b45dec2-fa6d-476c-8da0-2cc7aa7e2592",
   "metadata": {},
   "outputs": [],
   "source": [
    "# p(y | x,w)\n",
    "# x = image_gato, y= gato\n",
    "# p(y=gato | image_gato, w) = f(x)_w\n",
    "\n",
    "# p(y=68 | 76)\n",
    "# p(y=2  | 76, 68)\n",
    "# p(y=68 | 76, 68, 2)\n",
    "# p(y=77 | 76, 68, 2, 68) = f([x1,x2, ...xT])_w\n",
    "#         ----- T ------ \n"
   ]
  },
  {
   "cell_type": "code",
   "execution_count": 21,
   "id": "9d5da1c4-576b-467a-ad9b-93eb9dd4058f",
   "metadata": {},
   "outputs": [
    {
     "name": "stdout",
     "output_type": "stream",
     "text": [
      "x \\in  torch.Size([4, 8])\n",
      "y \\in  torch.Size([4, 8])\n"
     ]
    }
   ],
   "source": [
    "# ciclo de treinamento\n",
    "\n",
    "# for epoch in epochs \n",
    "for x,y in dataloader:\n",
    "    print(\"x \\in \", x.shape)\n",
    "    print(\"y \\in \", y.shape)\n",
    "\n",
    "    # yh = f(x)_w = [yh]_(B,T,Cv) (*) Attention \n",
    "    # J = CE(y, yh)\n",
    "\n",
    "    # pytorch opt\n",
    "    # W^(t+1) = W^t - lr*grad(J) (1)\n",
    "    # opt.zero_grad()\n",
    "    # J.backward() => grad(J)\n",
    "    # opt.step()\n",
    "    \n",
    "    break\n",
    "\n"
   ]
  },
  {
   "cell_type": "code",
   "execution_count": null,
   "id": "a21c156b-77a4-448a-a71f-015b12a18c65",
   "metadata": {},
   "outputs": [],
   "source": []
  },
  {
   "cell_type": "code",
   "execution_count": 23,
   "id": "59b10578-fe19-4d14-9e26-a7b8d3c929ac",
   "metadata": {},
   "outputs": [
    {
     "name": "stdout",
     "output_type": "stream",
     "text": [
      "torch.Size([4, 8, 160])\n"
     ]
    }
   ],
   "source": [
    "# implementando meu primero transformer \n",
    "import torch\n",
    "import torch.nn as nn\n",
    "from torch.nn import functional as F\n",
    "\n",
    "class GPTmm(nn.Module):\n",
    "\n",
    "    # # step 1\n",
    "    # def __init__(self, vocab_size):\n",
    "    #     super().__init__()\n",
    "    #     self.emb = nn.Embedding(vocab_size, vocab_size) # [emb]_(Cv, k)\n",
    "    \n",
    "\n",
    "    # def forward(self, x):\n",
    "    #     # in: [x]_(B,T)\n",
    "    #     # out: [yh]_(B,T,Cv)\n",
    "\n",
    "    #     yh = self.emb(x)\n",
    "    #     return yh\n",
    "\n",
    "    # #step 2\n",
    "    # def __init__(self, vocab_size):\n",
    "    #     super().__init__()\n",
    "\n",
    "    #     n_embd = 4\n",
    "    #     self.emb_x = nn.Embedding(vocab_size, n_embd) # [emb]_(Cv, C)\n",
    "    #     self.emb_pe = nn.Embedding(block_size, n_embd) # [emb]_(T, C) # learning positional enconding \n",
    "    #     self.linear = nn.Linear(n_embd, vocab_size)\n",
    "\n",
    "    # def forward(self, x):\n",
    "    #     # in: [x]_(B,T)\n",
    "    #     # out: [yh]_(B,T,Cv)\n",
    "    #     B,T = x.shape\n",
    "        \n",
    "    #     # positional encoding \n",
    "    #     x_emb = self.emb_x(x)\n",
    "    #     pe_emb = self.emb_pe(torch.arange(T))\n",
    "    #     x = x_emb + pe_emb # [x]_(B,T,C)\n",
    "        \n",
    "    #     yh = self.linear(x) # [x*W]_(B,T,Cv)\n",
    "    #     return yh\n",
    "\n",
    "\n",
    "    def __init__(self, vocab_size, block_size):\n",
    "        super().__init__()\n",
    "\n",
    "        n_embd = 4\n",
    "        head_size = 6 #d_k\n",
    "        \n",
    "        self.emb_x = nn.Embedding(vocab_size, n_embd) # [emb]_(Cv, C)\n",
    "        self.emb_pe = nn.Embedding(block_size, n_embd) # [emb]_(T, C) # learning positional enconding \n",
    "\n",
    "        self.key = nn.Linear(n_embd, head_size, bias=False) # X*W_k\n",
    "        self.query = nn.Linear(n_embd, head_size, bias=False) # X*W_q\n",
    "        self.value = nn.Linear(n_embd, head_size, bias=False) # X*W_v\n",
    "\n",
    "        self.register_buffer(\"mask\", torch.tril(torch.ones(block_size, block_size)))\n",
    "\n",
    "        # no final\n",
    "        self.linear = nn.Linear(head_size, vocab_size)\n",
    "\n",
    "    def forward(self, x):\n",
    "        # in: [x]_(B,T)\n",
    "        # out: [yh]_(B,T,Cv)\n",
    "        B,T = x.shape\n",
    "        \n",
    "        # positional encoding \n",
    "        x_emb = self.emb_x(x)\n",
    "        pe_emb = self.emb_pe(torch.arange(T))\n",
    "        x = x_emb + pe_emb # [x]_(B,T,C)\n",
    "        B,T,C = x.shape\n",
    "            \n",
    "        # ????\n",
    "\n",
    "        k = self.key(x) # [k]_(B,T,H)\n",
    "        q = self.query(x) # [q]_(B,T,H)\n",
    "        v = self.value(x) # [v]_(B,T,H)\n",
    "                \n",
    "        #mask = torch.tril(torch.ones(T,T))\n",
    "        #att = torch.zeros((T,T))\n",
    "        att = q @ k.transpose(-2, -1) * C**-0.5 # [att]_(B,T,T) = [q]_(B,T,H) * [k]_(B,H,T)\n",
    "        att = att.masked_fill(self.mask[:T, :T] == 0, float(\"-inf\"))  # [att]_(B,T,T)\n",
    "        att = F.softmax(att, dim=-1)  # [att]_(B,T,T)\n",
    "            \n",
    "        x = att @ v # [att]_(B,T,T) * [v]_(B,T,H) => [x]_(B,T,H)\n",
    "                \n",
    "        yh = self.linear(x) # [x*W]_(B,T,Cv)\n",
    "        return yh\n",
    "    \n",
    "vocab_size = dataset.vocab_size\n",
    "f = GPTmm(vocab_size, block_size)\n",
    "yh = f(x)\n",
    "print(yh.shape)\n",
    "\n"
   ]
  },
  {
   "cell_type": "code",
   "execution_count": 24,
   "id": "d5af3630-ac07-41cf-b877-38a9294635b2",
   "metadata": {},
   "outputs": [],
   "source": [
    "# definir um optimizador\n",
    "# vamos empregar adamw\n",
    "opt = torch.optim.AdamW(f.parameters(), lr=1e-3)"
   ]
  },
  {
   "cell_type": "code",
   "execution_count": 30,
   "id": "b8c518e8-3159-4602-ae93-f855fcb71747",
   "metadata": {},
   "outputs": [
    {
     "name": "stdout",
     "output_type": "stream",
     "text": [
      "Epoch  0\n",
      "2.9682085514068604\n",
      "3.4441325664520264\n",
      "2.7077553272247314\n",
      "2.8119888305664062\n"
     ]
    }
   ],
   "source": [
    "\n",
    "def train(max_iter=100):\n",
    "\n",
    "    Js = []\n",
    "    f.train()\n",
    "    for i,(x,y) in enumerate(dataloader):\n",
    "        # yh = f(x)_w = [yh]_(B,T,Cv) (*) Attention \n",
    "        # J = CE(y, yh)\n",
    "    \n",
    "        yh = f(x)\n",
    "        J = F.cross_entropy(yh.view(-1, vocab_size), y.view(-1))\n",
    "    \n",
    "        # pytorch opt\n",
    "        # W^(t+1) = W^t - lr*grad(J) (1)\n",
    "        # opt.zero_grad()\n",
    "        # J.backward() => grad(J)\n",
    "        # opt.step()\n",
    "    \n",
    "        opt.zero_grad(set_to_none=True)\n",
    "        J.backward()\n",
    "        opt.step()\n",
    "\n",
    "        Js.append(J.item())\n",
    "        \n",
    "        if i % 1000 == 0:\n",
    "            print(J.item()) \n",
    "\n",
    "        if i > max_iter:\n",
    "            break\n",
    "\n",
    "    return Js\n",
    "\n",
    "\n",
    "epochs = 1\n",
    "for epoch in range(epochs):\n",
    "    print(\"Epoch \", epoch)\n",
    "    Js = train(max_iter=3500)\n"
   ]
  },
  {
   "cell_type": "code",
   "execution_count": 31,
   "id": "ea1de453-5922-4d75-9802-b5dec5412b4b",
   "metadata": {},
   "outputs": [
    {
     "data": {
      "image/png": "[encoded data removed]",
      "text/plain": [
       "<Figure size 640x480 with 1 Axes>"
      ]
     },
     "metadata": {},
     "output_type": "display_data"
    }
   ],
   "source": [
    "plt.figure()\n",
    "plt.plot(Js)\n",
    "plt.show()"
   ]
  },
  {
   "cell_type": "code",
   "execution_count": null,
   "id": "e22e6c3f-6619-4c83-b9de-0c07cc66a6fc",
   "metadata": {},
   "outputs": [],
   "source": [
    "# Positional Encoding \n",
    "# https://kazemnejad.com/blog/transformer_architecture_positional_encoding\n",
    "\n",
    "# [x]_(B,T)\n",
    "# [emb_x]_(B,T,C)\n",
    "# [pe]_(T,C)\n",
    "#\n",
    "# PE(pos, 2i) = sin(pos/1000^(2i)/C) // pos \\in [0,T)\n",
    "# PE(pos, 2i+1) = cos(pos/1000^(2i)/C)\n"
   ]
  },
  {
   "cell_type": "code",
   "execution_count": 8,
   "id": "29a0215a-4b16-4a25-9fd5-247b7c34a2de",
   "metadata": {},
   "outputs": [
    {
     "name": "stdout",
     "output_type": "stream",
     "text": [
      "torch.Size([3, 4])\n",
      "tensor([[0],\n",
      "        [1],\n",
      "        [2]])\n",
      "tensor([[0.0000, 0.0000, 0.0000, 0.0000],\n",
      "        [0.8415, 0.0000, 0.0100, 0.0000],\n",
      "        [0.9093, 0.0000, 0.0200, 0.0000]])\n",
      "torch.Size([4, 3, 4])\n",
      "tensor([[0.0000, 0.0000, 0.0000, 0.0000],\n",
      "        [0.8415, 0.0000, 0.0100, 0.0000],\n",
      "        [0.9093, 0.0000, 0.0200, 0.0000]])\n"
     ]
    }
   ],
   "source": [
    "import math \n",
    "\n",
    "B, T, C = 4,3,4\n",
    "\n",
    "x = torch.zeros(B,T,C) # [x]_(B,T,C)\n",
    "pe = torch.zeros((T, C))\n",
    "pos = torch.arange(0, T).unsqueeze(1)\n",
    "div_term = torch.exp(torch.arange(0, C, 2).float() * (-math.log(10000.0) / C))\n",
    "\n",
    "print(pe.shape)\n",
    "print(pos)\n",
    "\n",
    "pe[:, 0::2] = np.sin(pos*div_term)\n",
    "# pe[:, 1::2] = np.cos(pos*div_term)\n",
    "\n",
    "print(pe)\n",
    "\n",
    "x_pe = x + pe\n",
    "print(x_pe.shape)\n",
    "print(x_pe[1,...])\n"
   ]
  },
  {
   "cell_type": "code",
   "execution_count": null,
   "id": "d01b7482-cb86-48f9-9627-d307615c1cb7",
   "metadata": {},
   "outputs": [],
   "source": []
  },
  {
   "cell_type": "code",
   "execution_count": 34,
   "id": "407f1874-ba4d-4716-8ad4-a0dbd65bc62a",
   "metadata": {},
   "outputs": [
    {
     "name": "stdout",
     "output_type": "stream",
     "text": [
      "10 Beijos de.\n",
      "10 Beijos de. \n",
      "10 Beijos de. Q\n",
      "10 Beijos de. Qs\n",
      "10 Beijos de. Qs \n",
      "10 Beijos de. Qs C\n",
      "10 Beijos de. Qs Co\n",
      "10 Beijos de. Qs Com\n",
      "10 Beijos de. Qs Come\n",
      "10 Beijos de. Qs Comer\n"
     ]
    }
   ],
   "source": [
    "# geração de texto empregando o modelo \n",
    "# xT+1 = arg max p(y | x1,x2, ... xT, w)\n",
    "# xT+2 = arg max p(y | x2,x3, ... xT+1, w)\n",
    "# ...\n",
    "# xT+M = arg max p(y | xM-T,x3, ... xM, w)\n",
    "\n",
    "def generate(f, x, max_tokens):\n",
    "    # f: modelo treinado f(x)_w\n",
    "    # x: contexto [x]_(B,T)\n",
    "    # max_tokens: maximos tokens gerados  \n",
    "    #\n",
    "    f.eval()\n",
    "    for i in range(max_tokens):\n",
    "        x_ = x if x.size(1) <= block_size else x[:,-block_size:]\n",
    "        y = f(x_) # [y]_(B=1,T,Cv)\n",
    "        y = y[:,-1,...]\n",
    "\n",
    "        # calcular a probabilidade\n",
    "        p = F.softmax(y, dim=-1)\n",
    "\n",
    "        # estimar o proximo token \n",
    "        # xt = torch.argmax(p, dim=-1, keepdim=True)\n",
    "        xt = torch.multinomial(p, num_samples=1)\n",
    "\n",
    "        x = torch.cat((x,xt), dim=1) # [x]_(B,T+1) \n",
    "\n",
    "        # imprimir os resultados \n",
    "        print(\"{}\".format( dataset.from_tokens(x[0]) ))\n",
    "   \n",
    "    return x \n",
    "\n",
    "context = \"Estou rodando um exemplo\"\n",
    "x = dataset.to_tokens(context, torch.device(\"cpu\") )\n",
    "tokens = generate(f, x, 10)\n",
    "# print(tokens)\n",
    "\n",
    "# p = p.detach().cpu().numpy()[0,...]\n",
    "# print(p.shape)\n",
    "\n",
    "# plt.figure()\n",
    "# plt.plot(p)\n",
    "# plt.show()"
   ]
  },
  {
   "cell_type": "code",
   "execution_count": 17,
   "id": "554272e1-7506-460a-aa78-fbcd4bad9974",
   "metadata": {},
   "outputs": [
    {
     "name": "stdout",
     "output_type": "stream",
     "text": [
      "tensor([[5., 7., 2., 0., 5., 3.],\n",
      "        [5., 0., 4., 0., 2., 0.],\n",
      "        [7., 6., 0., 8., 1., 4.],\n",
      "        [9., 5., 3., 6., 2., 0.]])\n",
      "torch.Size([4, 6])\n",
      "tensor([[1.0000, 0.0000, 0.0000, 0.0000],\n",
      "        [0.5000, 0.5000, 0.0000, 0.0000],\n",
      "        [0.3333, 0.3333, 0.3333, 0.0000],\n",
      "        [0.2500, 0.2500, 0.2500, 0.2500]])\n",
      "tensor([[5.0000, 7.0000, 2.0000, 0.0000, 5.0000, 3.0000],\n",
      "        [5.0000, 3.5000, 3.0000, 0.0000, 3.5000, 1.5000],\n",
      "        [5.6667, 4.3333, 2.0000, 2.6667, 2.6667, 2.3333],\n",
      "        [6.5000, 4.5000, 2.2500, 3.5000, 2.5000, 1.7500]])\n",
      "torch.Size([4, 6])\n"
     ]
    }
   ],
   "source": [
    "# As matematicas das camadas self-attention\n",
    "from torch.nn import functional as F\n",
    "\n",
    "torch.manual_seed(1337)\n",
    "B,T,C = 4,4,6 # batch, time, channels\n",
    "x = torch.randint(10,(T,C)) * 1.0\n",
    "print(x)\n",
    "print(x.shape)\n",
    "\n",
    "# Step 1\n",
    "# mascara de attention\n",
    "# att = torch.tril(torch.ones(T,T))\n",
    "# att = att / att.sum(dim=1, keepdim=True)\n",
    "# print(att)\n",
    "# y = att @ x\n",
    "# print(y)\n",
    "\n",
    "# Step 2\n",
    "# attention\n",
    "mask = torch.tril(torch.ones(T,T))\n",
    "att = torch.zeros((T,T))\n",
    "att = att.masked_fill(mask[:T, :T] == 0, float(\"-inf\"))  # [att]_(B,T,T)\n",
    "att = F.softmax(att, dim=-1)  # [att]_(B,T,T)\n",
    "\n",
    "print(att)\n",
    "\n",
    "y = att @ x\n",
    "print(y)\n",
    "print(y.shape)\n",
    "\n",
    "\n",
    "# mask é constante (T,T)\n",
    "# att (T,T) => (B,T,T) ?????\n",
    "# x (T,C) => (B,T,C)\n",
    "# y (T,C) => (B,T,C)"
   ]
  },
  {
   "cell_type": "code",
   "execution_count": null,
   "id": "a7339695-f841-4b7a-867c-dd7526d052c1",
   "metadata": {},
   "outputs": [],
   "source": []
  },
  {
   "cell_type": "code",
   "execution_count": null,
   "id": "f9ee3178-ad7a-458c-8fea-b6848eaa2d94",
   "metadata": {},
   "outputs": [],
   "source": []
  },
  {
   "cell_type": "code",
   "execution_count": null,
   "id": "ae00a6e1-0642-45ff-9454-216166c1c4bb",
   "metadata": {},
   "outputs": [],
   "source": []
  },
  {
   "cell_type": "code",
   "execution_count": null,
   "id": "ce592691-ab88-477e-a098-339fab8c5d0a",
   "metadata": {},
   "outputs": [],
   "source": []
  }
 ],
 "metadata": {
  "kernelspec": {
   "display_name": "Python 3 (ipykernel)",
   "language": "python",
   "name": "python3"
  },
  "language_info": {
   "codemirror_mode": {
    "name": "ipython",
    "version": 3
   },
   "file_extension": ".py",
   "mimetype": "text/x-python",
   "name": "python",
   "nbconvert_exporter": "python",
   "pygments_lexer": "ipython3",
   "version": "3.10.11"
  }
 },
 "nbformat": 4,
 "nbformat_minor": 5
}
