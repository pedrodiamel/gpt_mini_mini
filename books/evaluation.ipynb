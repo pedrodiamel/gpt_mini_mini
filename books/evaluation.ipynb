{
 "cells": [
  {
   "cell_type": "code",
   "execution_count": null,
   "id": "0210241c-611c-402d-84d6-079c2d0fc402",
   "metadata": {},
   "outputs": [],
   "source": []
  },
  {
   "cell_type": "code",
   "execution_count": 1,
   "id": "d776189e-9d3a-4680-875b-b12eb32b02ba",
   "metadata": {},
   "outputs": [],
   "source": [
    "import os\n",
    "import numpy as np\n",
    "import matplotlib.pyplot as plt\n",
    "import pandas as pd\n",
    "\n",
    "# TORCH MODULE\n",
    "import torch.backends.cudnn as cudnn\n",
    "from torch.utils.data import DataLoader\n",
    "\n",
    "# LOCAL MODULE\n",
    "from llms.transformer import NeuralNetTransformer\n",
    "from llms.datasets.datasets import CharDataset\n",
    "\n",
    "plt.ion()   # interactive mode\n",
    "\n",
    "# Ignore warnings\n",
    "import warnings\n",
    "warnings.filterwarnings(\"ignore\")"
   ]
  },
  {
   "cell_type": "code",
   "execution_count": null,
   "id": "e481d53f-ce4f-4722-9414-6daa8bd7bdb7",
   "metadata": {},
   "outputs": [],
   "source": []
  },
  {
   "cell_type": "code",
   "execution_count": 2,
   "id": "6ce2abcc-3213-4d70-90e7-aea1556ba2a8",
   "metadata": {},
   "outputs": [],
   "source": [
    "# DATASET_PATH = \"/.datasets/llms/tinyshakespeare/input.txt\"\n",
    "DATASET_PATH = \"/.datasets/llms/brasiliansong/input.txt\"\n",
    "MODELS_PATH = \"/.models/gptcourse\"\n",
    "NO_CUDA = False\n",
    "SEED=1\n",
    "GPU=0"
   ]
  },
  {
   "cell_type": "code",
   "execution_count": 3,
   "id": "2184c434-4b3a-4319-bb79-722d3f99d746",
   "metadata": {},
   "outputs": [
    {
     "name": "stdout",
     "output_type": "stream",
     "text": [
      "gptcourse_gpt2mm_v0.01\tgptcourse_gpt2mm_v0.04\tgptcourse_gptmm_v0.03\n",
      "gptcourse_gpt2mm_v0.02\tgptcourse_gptmm_v0.01\n",
      "gptcourse_gpt2mm_v0.03\tgptcourse_gptmm_v0.02\n"
     ]
    }
   ],
   "source": [
    "!ls $MODELS_PATH"
   ]
  },
  {
   "cell_type": "code",
   "execution_count": 4,
   "id": "7c007656-09ac-49f2-bd9f-87b5addba1a9",
   "metadata": {},
   "outputs": [
    {
     "name": "stdout",
     "output_type": "stream",
     "text": [
      "/.models/gptcourse/gptcourse_gpt2mm_v0.04\n",
      "/.models/gptcourse/gptcourse_gpt2mm_v0.04/models/chk000002.pth.tar\n"
     ]
    }
   ],
   "source": [
    "PROJECT_NAME = \"gptcourse_gpt2mm_v0.04\"\n",
    "PROJECT_PATHNAME = os.path.join(MODELS_PATH, PROJECT_NAME)\n",
    "# MODEL_NAME = \"model_best.pth.tar\"\n",
    "MODEL_NAME = \"chk000002.pth.tar\"\n",
    "MODEL_PATH = os.path.join(PROJECT_PATHNAME, \"models\", MODEL_NAME)\n",
    "\n",
    "print(PROJECT_PATHNAME)\n",
    "print(MODEL_PATH)"
   ]
  },
  {
   "cell_type": "code",
   "execution_count": 5,
   "id": "b8d4194b-e294-421a-8c43-36eb1a045942",
   "metadata": {},
   "outputs": [
    {
     "name": "stdout",
     "output_type": "stream",
     "text": [
      "=> loading checkpoint '/.models/gptcourse/gptcourse_gpt2mm_v0.04/models/chk000002.pth.tar'\n",
      "number of parameters: 10.68M\n",
      "=> loaded checkpoint for gpt2mm arch!\n"
     ]
    }
   ],
   "source": [
    "# neuralnet\n",
    "network = NeuralNetTransformer(\n",
    "    pathproject=PROJECT_PATHNAME,\n",
    "    nameproject=PROJECT_NAME,\n",
    "    no_cuda=NO_CUDA,\n",
    "    seed=SEED,\n",
    "    gpu=GPU\n",
    "    )\n",
    "\n",
    "cudnn.benchmark = True\n",
    "\n",
    "# load model\n",
    "if network.load( MODEL_PATH ) is not True:\n",
    "    assert(False)"
   ]
  },
  {
   "cell_type": "code",
   "execution_count": 6,
   "id": "6cab4fc7-20ee-4d3b-9737-70977a41aa87",
   "metadata": {},
   "outputs": [
    {
     "name": "stdout",
     "output_type": "stream",
     "text": [
      "8091430\n"
     ]
    }
   ],
   "source": [
    "dataset = CharDataset(DATASET_PATH, network.block_size, train=True, download=False)\n",
    "print(len(dataset))"
   ]
  },
  {
   "cell_type": "code",
   "execution_count": null,
   "id": "59664bef-c8b6-4e13-9514-7754c5d01085",
   "metadata": {},
   "outputs": [],
   "source": []
  },
  {
   "cell_type": "code",
   "execution_count": 7,
   "id": "a28e1d30-d665-4230-9145-a4e62edb764f",
   "metadata": {},
   "outputs": [
    {
     "name": "stdout",
     "output_type": "stream",
     "text": [
      "(1020,)\n",
      "Estou doido por voce sabe. \n",
      "Só hoje um coração chamado. \n",
      "Pesado coincidinho na brisa. \n",
      "Eu queria tanto te ver. \n",
      "Debaixo d'água de novo trabalhar. \n",
      "Pra salvar a nossa relação. \n",
      "Com bagro amor contra a manhã. \n",
      "Vai lá meu sorriso. \n",
      "Quando eu aprendi. \n",
      "Os seus inimigos levaram. \n",
      "De guerra em nome de Jesus. \n",
      "Depois descansar um adorador. \n",
      "Somente vi Titular. \n",
      "Toda vez que o meu coração ser refém. \n",
      "Vai chegar um com sempre o meu coração. \n",
      "E desprezar de Ti senhor Jesus. \n",
      "Cansar de ti quero ver Ti levar os meus pés. \n",
      "Eu sei que ainda morro de medo de me marcar. \n",
      "Onde perder meu perdão. \n",
      "E mergulhar neste lugar. \n",
      "É a teus senhor pra mim mesmo. \n",
      "Eu sei que estou nesta canção. \n",
      "É a teus mesmos que o ar Seu. \n",
      "Senhor te olhar, Senhor. \n",
      "Mas ao meu lado está em Ti. \n",
      "Se o céu pensar, e me sinto frente ao mar. \n",
      "Pode me ouvir Teu mestre. \n",
      "Oh, Teu chamego está em Ti. \n",
      "Cristo, aleluia e Tua glória. \n",
      "Cristo, aleluia, valeia a paz. \n",
      "Estou de Nazaré, estou de Nazaré. \n",
      "Se o céu pensar, estou de Nazaré. \n",
      "Se o céu pensar, estou d\n"
     ]
    }
   ],
   "source": [
    "# context = \"Friends of my soul\"  # prime with something\n",
    "context = \"Estou doido por voce\"\n",
    "x = dataset.to_tokens(context, network.device)\n",
    "# print(x.shape)\n",
    "y = network(x, steps=1000, temperature=1.0, sample=True, top_k=None)[0]\n",
    "print(y.shape)\n",
    "print(dataset.from_tokens(y))"
   ]
  },
  {
   "cell_type": "code",
   "execution_count": null,
   "id": "21929aca-7ed7-42e6-89cf-278ae51e8045",
   "metadata": {},
   "outputs": [],
   "source": []
  },
  {
   "cell_type": "code",
   "execution_count": null,
   "id": "f638658b-7cbd-4ffe-a16f-a33635eb1583",
   "metadata": {},
   "outputs": [],
   "source": []
  },
  {
   "cell_type": "code",
   "execution_count": null,
   "id": "d1994755-6e7c-471b-8bde-7c0ee8ece7cd",
   "metadata": {},
   "outputs": [],
   "source": []
  }
 ],
 "metadata": {
  "kernelspec": {
   "display_name": "Python 3 (ipykernel)",
   "language": "python",
   "name": "python3"
  },
  "language_info": {
   "codemirror_mode": {
    "name": "ipython",
    "version": 3
   },
   "file_extension": ".py",
   "mimetype": "text/x-python",
   "name": "python",
   "nbconvert_exporter": "python",
   "pygments_lexer": "ipython3",
   "version": "3.10.11"
  }
 },
 "nbformat": 4,
 "nbformat_minor": 5
}
